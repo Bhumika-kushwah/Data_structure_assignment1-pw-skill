{
 "cells": [
  {
   "cell_type": "code",
   "execution_count": null,
   "metadata": {},
   "outputs": [
    {
     "name": "stdout",
     "output_type": "stream",
     "text": [
      "akimuhb olleh\n"
     ]
    }
   ],
   "source": [
    "# 1.write a code to reverse a string\n",
    "def reverse_string(s):\n",
    "        return s[::-1]\n",
    "    \n",
    "    \n",
    "s=reverse_string(\"hello bhumika\")\n",
    "print(s)"
   ]
  },
  {
   "cell_type": "code",
   "execution_count": 7,
   "metadata": {},
   "outputs": [
    {
     "name": "stdout",
     "output_type": "stream",
     "text": [
      "number of vowels : 3\n"
     ]
    }
   ],
   "source": [
    "# 2.write a code to count number of vowels in string\n",
    "def count_vowels(s):\n",
    "    vowels='aeiouAEIOU'\n",
    "    count=0\n",
    "    for char in s:\n",
    "        if char in vowels:\n",
    "            count+=1\n",
    "    return count \n",
    "s=input(\"enter a string value :\")\n",
    "print(\"number of vowels :\",count_vowels(s)) "
   ]
  },
  {
   "cell_type": "code",
   "execution_count": 8,
   "metadata": {},
   "outputs": [
    {
     "name": "stdout",
     "output_type": "stream",
     "text": [
      "the string is palindrom\n"
     ]
    }
   ],
   "source": [
    "#3.Write a code to check if a given string is a palindrome or not\n",
    "def is_palindorme(s):\n",
    "   return s.replace('','').lower()==s.replace('','').lower()[::-1]\n",
    "s=input(\"enter a string number:\")\n",
    "if is_palindorme(s):\n",
    "    print(\"the string is palindrom\")\n",
    "else:\n",
    "     print (\"not a palindrom\")  \n"
   ]
  },
  {
   "cell_type": "code",
   "execution_count": 9,
   "metadata": {},
   "outputs": [
    {
     "name": "stdout",
     "output_type": "stream",
     "text": [
      "the string is anagrams\n"
     ]
    }
   ],
   "source": [
    "# 4.Write a code to check if two given strings are anagrams of each other\n",
    "string1=input(\"enter first string\")\n",
    "string2=input(\"enter second string\")\n",
    "string1=string1.replace('','').lower()\n",
    "string2=string2.replace('','').lower()\n",
    "\n",
    "if sorted(string1)==sorted(string2):\n",
    "    print(\"the string is anagrams\")\n",
    "else:\n",
    "    print(\"the string is not anagrams\")    \n",
    " \n",
    "\n"
   ]
  },
  {
   "cell_type": "code",
   "execution_count": 10,
   "metadata": {},
   "outputs": [
    {
     "name": "stdout",
     "output_type": "stream",
     "text": [
      "The substring 'kushwah' occurs at the following indices: [8]\n"
     ]
    }
   ],
   "source": [
    "# 5.Write a code to find all occurrences of a given substring within another string\n",
    "\n",
    "main_string = input(\"Enter the main string: \")\n",
    "sub_string = input(\"Enter the substring to find: \")\n",
    "\n",
    "index = 0\n",
    "occurrences = []\n",
    "while index < len(main_string):\n",
    "    index = main_string.find(sub_string, index)\n",
    "    if index == -1:\n",
    "        break\n",
    "    occurrences.append(index)\n",
    "    index += len(sub_string)\n",
    "\n",
    "if occurrences:\n",
    "    print(f\"The substring '{sub_string}' occurs at the following indices: {occurrences}\")\n",
    "else:\n",
    "    print(f\"The substring '{sub_string}' does not occur in the main string.\")"
   ]
  },
  {
   "cell_type": "code",
   "execution_count": 13,
   "metadata": {},
   "outputs": [
    {
     "name": "stdout",
     "output_type": "stream",
     "text": [
      "Compressed string: a3c1b4c1\n"
     ]
    }
   ],
   "source": [
    "# 6.Write a code to perform basic string compression using the counts of repeated characters\n",
    "def compress_string(s):\n",
    "    if len(s) == 0:\n",
    "        return s\n",
    "\n",
    "    compressed = []\n",
    "    count = 1\n",
    "\n",
    "    for i in range(1, len(s)):\n",
    "        if s[i] == s[i - 1]:\n",
    "            count += 1\n",
    "        else:\n",
    "            compressed.append(s[i - 1] + str(count))\n",
    "            count = 1\n",
    "            \n",
    "            compressed.append(s[-1] + str(count))\n",
    "    compressed_str = \"\".join(compressed)\n",
    "\n",
    "    return compressed_str if len(compressed_str) < len(s) else s\n",
    "\n",
    "s =input(\"enter a string\")\n",
    "compressed = compress_string(s)\n",
    "print(\"Compressed string:\", compressed)\n",
    "\n"
   ]
  },
  {
   "cell_type": "code",
   "execution_count": 15,
   "metadata": {},
   "outputs": [
    {
     "name": "stdout",
     "output_type": "stream",
     "text": [
      "the string has duplicate characters\n"
     ]
    }
   ],
   "source": [
    "# 7.write a code to determine if a string has all unique characters\n",
    "def unique_chr(s):\n",
    "    return len(s)==len(set(s))\n",
    "s=input(\"enter a string:\")\n",
    "if unique_chr(s):\n",
    "    print(\"the string has unique characters\")\n",
    "else:\n",
    "    print(\"the string has duplicate characters\")    "
   ]
  },
  {
   "cell_type": "code",
   "execution_count": 16,
   "metadata": {},
   "outputs": [
    {
     "name": "stdout",
     "output_type": "stream",
     "text": [
      "BHUMIKA\n"
     ]
    }
   ],
   "source": [
    "# 8.Write a code to convert a given string to uppercase or lowercase\n",
    "s=input(\"enter a string :\")\n",
    "case=input(\"enter the case('upper' or 'lower'):\")\n",
    "if case.lower()=='upper':\n",
    "    print(s.upper())\n",
    "elif case.lower()=='lower' :\n",
    "    print(s.lower())  \n",
    "else :  print(\"invelid case\")   \n"
   ]
  },
  {
   "cell_type": "code",
   "execution_count": 18,
   "metadata": {},
   "outputs": [
    {
     "name": "stdout",
     "output_type": "stream",
     "text": [
      "number of words: 5\n"
     ]
    }
   ],
   "source": [
    "# 9.Write a code to count the number of words in a string\n",
    "s=input(\"enter a string :\")\n",
    "print(\"number of words:\",len(s.split()))"
   ]
  },
  {
   "cell_type": "code",
   "execution_count": 20,
   "metadata": {},
   "outputs": [
    {
     "name": "stdout",
     "output_type": "stream",
     "text": [
      "concatente of two string is : pw skillsdata science\n"
     ]
    }
   ],
   "source": [
    "#10.write a code to concatenate two strings without using the + operator\n",
    "str1=input(\"enter first string :\")\n",
    "str2=input(\"enter second string :\")\n",
    "result=str1+str2\n",
    "print(\"concatente of two string is :\",result)"
   ]
  },
  {
   "cell_type": "code",
   "execution_count": 21,
   "metadata": {},
   "outputs": [
    {
     "name": "stdout",
     "output_type": "stream",
     "text": [
      "[5, 4, 3, 6, 7, 2, 9, 0]\n",
      "[4, 3, 6, 7, 2, 9, 0]\n"
     ]
    }
   ],
   "source": [
    "# 11.Write a code to remove all occurrences of a specific element from a list\n",
    "def remove_element(list,element):\n",
    "    return[x for x in list if x!=element]\n",
    "list=[5,4,3,6,7,2,9,0]\n",
    "element=5\n",
    "new_list=remove_element(list,element)\n",
    "print(list)\n",
    "print(new_list)"
   ]
  },
  {
   "cell_type": "code",
   "execution_count": 3,
   "metadata": {},
   "outputs": [
    {
     "name": "stdout",
     "output_type": "stream",
     "text": [
      "The second largest number is: 6\n"
     ]
    }
   ],
   "source": [
    "#12.Implement a code to find the second largest number in a given list of integers\n",
    "numbers= list(map(int, input(\"Enter a list of numbers separated by spaces: \").split()))\n",
    "if len(numbers) < 2:\n",
    "    print(\"There is no second largest number.\")\n",
    "else:\n",
    "    max_num = second_max_num = float('-inf')\n",
    "    for num in numbers:\n",
    "        if num > max_num:\n",
    "            second_max_num = max_num\n",
    "            max_num = num\n",
    "        elif num > second_max_num and num != max_num:\n",
    "            second_max_num = num\n",
    "\n",
    "    if second_max_num == float('-inf'):\n",
    "        print(\"There is no second largest number.\")\n",
    "    else:\n",
    "        print(\"The second largest number is:\", second_max_num)\n"
   ]
  },
  {
   "cell_type": "code",
   "execution_count": 27,
   "metadata": {},
   "outputs": [
    {
     "name": "stdout",
     "output_type": "stream",
     "text": [
      "{1: 1, 4: 2, 9: 3, 16: 4}\n"
     ]
    }
   ],
   "source": [
    "# 13Create a code to count the occurrences of each element in a list and return a dictionary with elements as keys and their counts as values\n",
    "def count_element(list):\n",
    "    count_dict={}\n",
    "    for num in list:\n",
    "        square=num**2\n",
    "        if square in count_dict: \n",
    "            count_dict[square]+=1\n",
    "        else:\n",
    "            count_dict[square] =1\n",
    "    return count_dict\n",
    "list=[1,2,2,3,3,3,4,4,4,4]   \n",
    "print(count_element(list))       "
   ]
  },
  {
   "cell_type": "code",
   "execution_count": 28,
   "metadata": {},
   "outputs": [
    {
     "name": "stdout",
     "output_type": "stream",
     "text": [
      "orignal list: [1, 2, 4, 5]\n",
      "Reversed list : [5, 4, 2, 1]\n"
     ]
    }
   ],
   "source": [
    "#14.Write a code to reverse a list in-place without using any built-in reverse functions\n",
    "def reverse_list(list):\n",
    "    left =0\n",
    "    right =len(list)-1\n",
    "    \n",
    "    while left <right:\n",
    "        list[left],list[right]=list[right],list[left]\n",
    "        left+=1\n",
    "        right-=1\n",
    "list=[1,2,4,5]  \n",
    "print(\"orignal list:\",list)     \n",
    "reverse_list(list)\n",
    "print(\"Reversed list :\",list)"
   ]
  },
  {
   "cell_type": "code",
   "execution_count": 29,
   "metadata": {},
   "outputs": [
    {
     "name": "stdout",
     "output_type": "stream",
     "text": [
      "orignal list :  [1, 2, 2, 3, 3, 4, 4, 5, 5, 6, 6]\n",
      "list without duplicates : [1, 2, 3, 4, 5, 6]\n"
     ]
    }
   ],
   "source": [
    "#15. Implement a code to find and remove duplicates from a list while preserving the original order of element\n",
    "def remove_duplicates(list):\n",
    "    seen=set()\n",
    "    return[x for x in list if not(x in seen or seen.add(x))]\n",
    "list=[1,2,2,3,3,4,4,5,5,6,6]\n",
    "print(\"orignal list : \",list)\n",
    "print(\"list without duplicates :\",remove_duplicates(list))\n",
    "  \n"
   ]
  },
  {
   "cell_type": "code",
   "execution_count": 30,
   "metadata": {},
   "outputs": [
    {
     "name": "stdout",
     "output_type": "stream",
     "text": [
      "list 1: [1, 2, 3, 5] is sorted\n"
     ]
    }
   ],
   "source": [
    "# 16.Create a code to check if a given list is sorted (either in ascending or descending order) or not\n",
    "def checking_order(list):\n",
    "    assending=decending=True\n",
    "    for i in range(len(list)-1):\n",
    "        if list[i]>list[i+1]:\n",
    "            assending=False\n",
    "        if list[i]<list[i+1]:\n",
    "            decending=False\n",
    "    return assending or decending\n",
    "list1=[1,2,3,5]  \n",
    "print(\"list 1:\",list1,\"is sorted\" if checking_order(list1)else\"is not sorted\")      \n",
    "            "
   ]
  },
  {
   "cell_type": "code",
   "execution_count": 31,
   "metadata": {},
   "outputs": [
    {
     "name": "stdout",
     "output_type": "stream",
     "text": [
      "[1, 3, 4, 5, 7]\n",
      "[2, 6, 8, 10]\n",
      "merge list [1, 2, 3, 4, 5, 6, 7, 8, 10]\n"
     ]
    }
   ],
   "source": [
    "#17.Write a code to merge two sorted lists into a single sorted list\n",
    "list1=[1,3,4,5,7]\n",
    "list2=[2,6,8,10]\n",
    "list3=sorted(list1+list2)\n",
    "print(list1)\n",
    "print(list2)\n",
    "print(\"merge list\",list3)"
   ]
  },
  {
   "cell_type": "code",
   "execution_count": 32,
   "metadata": {},
   "outputs": [
    {
     "name": "stdout",
     "output_type": "stream",
     "text": [
      "[1, 2, 3, 5, 4, 6]\n",
      "[1, 2, 44, 55, 6]\n",
      "intersection [1, 2, 6]\n"
     ]
    }
   ],
   "source": [
    "#18. Implement a code to find the intersection of two given lists\n",
    "list1=[1,2,3,5,4,6]\n",
    "list2=[1,2,44,55,6]\n",
    "intersection=[value for value in list1 if value in list2]\n",
    "print(list1)\n",
    "print(list2)\n",
    "print(\"intersection\",intersection)\n"
   ]
  },
  {
   "cell_type": "code",
   "execution_count": null,
   "metadata": {},
   "outputs": [
    {
     "name": "stdout",
     "output_type": "stream",
     "text": [
      "[1, 2, 3, 4, 5]\n",
      "[4, 5, 6, 7, 8, 9]\n",
      "union of  [1, 2, 3, 4, 5] and [4, 5, 6, 7, 8, 9] is : {1, 2, 3, 4, 5, 6, 7, 8, 9}\n"
     ]
    }
   ],
   "source": [
    "#19.Create a code to find the union of two lists without duplicates\n",
    "list1=[1,2,3,4,5]\n",
    "list2=[4,5,6,7,8,9]\n",
    "list3=set(list1+list2)\n",
    "print(list1)\n",
    "print(list2)\n",
    "print(\"union of \",list1 ,\"and\",list2,\"is :\",list3)\n"
   ]
  },
  {
   "cell_type": "code",
   "execution_count": 37,
   "metadata": {},
   "outputs": [
    {
     "name": "stdout",
     "output_type": "stream",
     "text": [
      "orignal list [1, 2, 3, 4, 5, 6, 7, 8, 9, 10]\n",
      "shuffled list [5, 3, 4, 2, 1, 9, 6, 7, 8, 10]\n"
     ]
    }
   ],
   "source": [
    "#20.Write a code to shuffle a given list randomly without using any built-in shuffle functions\n",
    "import random\n",
    "def shuffile_list(list):\n",
    "    n=len(list)\n",
    "    for i in range(n-1,0,-1):\n",
    "        j=random.randint(0,n-1)\n",
    "        list[i],list[j]=list[j],list[i]\n",
    "    return list\n",
    "list=[1,2,3,4,5,6,7,8,9,10]  \n",
    "print(\"orignal list\",list)\n",
    "print(\"shuffled list\",shuffile_list(list)) \n",
    "        "
   ]
  },
  {
   "cell_type": "code",
   "execution_count": 38,
   "metadata": {},
   "outputs": [
    {
     "name": "stdout",
     "output_type": "stream",
     "text": [
      "tuple1 (1, 2, 3, 4)\n",
      "tuple2 (2, 3, 5, 6)\n",
      "common element (2, 3)\n"
     ]
    }
   ],
   "source": [
    "#21.Write a code that takes two tuples as input and returns a new tuple containing elements that arecommon to both input tuples\n",
    "tuple1=(1,2,3,4)\n",
    "tuple2=(2,3,5,6)\n",
    "common_elements=tuple([x for x in tuple1 if x in tuple2])\n",
    "print(\"tuple1\",tuple1)\n",
    "print(\"tuple2\",tuple2)\n",
    "print(\"common element\",common_elements)"
   ]
  },
  {
   "cell_type": "code",
   "execution_count": null,
   "metadata": {},
   "outputs": [
    {
     "name": "stdout",
     "output_type": "stream",
     "text": [
      "enter two sets of integeers seprated by a comma \n",
      "set1 : {3, 44, 5, 6}\n",
      "set2 : {3, 4, 5, 7}\n",
      "intersection {3, 5}\n"
     ]
    }
   ],
   "source": [
    " #22.crate a code that prompts the user to enter two sets of integers separated by commas. Then, print theintersection of these two set\n",
    "print(\"enter two sets of integeers seprated by a comma \")\n",
    "set1=input(\"enter first set: \")\n",
    "set2=input(\"enter second set : \") \n",
    "set1=set(map(int,set1.split(',')))\n",
    "set2=set(map(int,set2.split(',')))\n",
    "\n",
    "intersection=set1 & set2\n",
    "print(\"set1 :\",set1)\n",
    "print(\"set2 :\",set2)\n",
    "print(\"intersection\",intersection)"
   ]
  },
  {
   "cell_type": "code",
   "execution_count": 42,
   "metadata": {},
   "outputs": [
    {
     "name": "stdout",
     "output_type": "stream",
     "text": [
      "tuple1 : ('4', '3', '3', '7')\n",
      "tuple2 : ('8', '5', '7', '4')\n",
      "concatenate tuple : ('4', '3', '3', '7', '8', '5', '7', '4')\n"
     ]
    }
   ],
   "source": [
    "# 23.Write a code to concatenate two tuples. The function should take two tuples as input and return a new tuple containing elements from both input tuples.\n",
    "def concatenate_tuples(tuple1,tuple2):\n",
    "    return tuple1+tuple2\n",
    "tuple1=tuple(input(\"enter the first tuple without space :\"))\n",
    "tuple2=tuple(input(\"enter the second tuple without space :\"))\n",
    "print(\"tuple1 :\",tuple1)\n",
    "print(\"tuple2 :\",tuple2)\n",
    "print(\"concatenate tuple :\",concatenate_tuples(tuple1,tuple2))\n"
   ]
  },
  {
   "cell_type": "code",
   "execution_count": null,
   "metadata": {},
   "outputs": [
    {
     "name": "stdout",
     "output_type": "stream",
     "text": [
      "set1 {'4 3 4 2 2'}\n",
      "set2 {'2 3 6 7'}\n",
      "elemet in set 1 but not in set2 : {'4 3 4 2 2'}\n"
     ]
    }
   ],
   "source": [
    "#24.develop a code that prompts the user to input two sets of strings. Then, print the elements that are present in the first set but not in the second set\n",
    "set1=input(\"enter the first set : \")\n",
    "set2=input(\"enter the second set : \")\n",
    "set1=set(set1.split(','))\n",
    "set2=set(set2.split(','))\n",
    "\n",
    "diffrence=set1-set2\n",
    "print(\"set1\",set1)\n",
    "print(\"set2\",set2)\n",
    "print(\"elemet in set 1 but not in set2 :\",diffrence)"
   ]
  },
  {
   "cell_type": "code",
   "execution_count": 46,
   "metadata": {},
   "outputs": [
    {
     "name": "stdout",
     "output_type": "stream",
     "text": [
      "orignal tuple : ('b', 'h', 'u', 'm', 'i', 'k', 'a', 'k', 'u', 's', 'h', 'w', 'a', 'h')\n",
      "starting index : 2\n",
      "ending index  9\n",
      "slicing tuple ('u', 'm', 'i', 'k', 'a', 'k', 'u')\n"
     ]
    }
   ],
   "source": [
    "#25. Create a code that takes a tuple and two integers as input. The function should return a new tuple containing elements from the original tuple within the specified range of indices&\n",
    "tuple1=tuple(input(\"enter the value of tuple\"))\n",
    "start=int(input(\"enter the starting index : \"))\n",
    "end=int(input(\"enter the ending index :\"))\n",
    "slice=tuple1[start:end]\n",
    "print(\"orignal tuple :\",tuple1)\n",
    "print(\"starting index :\",start)\n",
    "print(\"ending index \",end)\n",
    "print(\"slicing tuple\",slice)\n"
   ]
  },
  {
   "cell_type": "code",
   "execution_count": null,
   "metadata": {},
   "outputs": [
    {
     "name": "stdout",
     "output_type": "stream",
     "text": [
      "set1: {'7', '5', '4', '6', '3'}\n",
      "set2 : {'8', '5', '4', '6', '3'}\n",
      "union of set1 and set2: {'7', '8', '5', '4', '6', '3'}\n"
     ]
    }
   ],
   "source": [
    "#26. Write a code that prompts the user to input two sets of characters. Then, print the union of these two sets&\n",
    "set1=input(\"enter the first set seprated by comma :\")\n",
    "set2=input(\"enter the second set seprated by coma :\")\n",
    "set1=set(set1.split(','))\n",
    "set2=set(set2.split(','))\n",
    "union =set1.union(set2)\n",
    "print(\"set1:\",set1)\n",
    "print(\"set2 :\",set2)\n",
    "print(\"union of set1 and set2:\",union)"
   ]
  },
  {
   "cell_type": "code",
   "execution_count": 49,
   "metadata": {},
   "outputs": [
    {
     "name": "stdout",
     "output_type": "stream",
     "text": [
      "tuple (4, 5, 3, 7, 6)\n",
      "minimum value : 3\n",
      "maximum value : 7\n"
     ]
    }
   ],
   "source": [
    "#27. Develop a code that takes a tuple of integers as input. The function should return the maximum and  minimum values from the tuple using tuple unpacking&\n",
    "def min_max(tup):\n",
    "    (min_val,max_val)=(min(tup),max(tup))if tup[0]>tup[1]else(min(tup),max(tup))\n",
    "    return min_val,max_val\n",
    "    \n",
    "\n",
    "tup=tuple(map(int,input (\"enter a tuple of integer seprated by commas : \").split(',')))\n",
    "min_val,max_val=min_max(tup)\n",
    "\n",
    "print(\"tuple\",tup)\n",
    "print(\"minimum value :\",min_val)\n",
    "print(\"maximum value :\",max_val)"
   ]
  },
  {
   "cell_type": "code",
   "execution_count": null,
   "metadata": {},
   "outputs": [
    {
     "name": "stdout",
     "output_type": "stream",
     "text": [
      "set1: {'7', '5', '4', '6', '3'}\n",
      "set2 : {'5', '4', '3', '6'}\n",
      "union of set1 and set2: {'7', '5', '4', '6', '3'}\n",
      "intersection of two sets : {'5', '4', '3', '6'}\n",
      "diffren of two sets :  {'7'}\n"
     ]
    }
   ],
   "source": [
    "# 28.Create a code that defines two sets of integers. Then, print the union, intersection, and difference of these two sets\n",
    "set1=input(\"enter the first set seprated by comma :\")\n",
    "set2=input(\"enter the second set seprated by comma :\")\n",
    "set1=set(set1.split(','))\n",
    "set2=set(set2.split(','))\n",
    "union =set1.union(set2)\n",
    "intersection=set1&set2\n",
    "diffrence=set1-set2\n",
    "print(\"set1:\",set1)\n",
    "print(\"set2 :\",set2)\n",
    "print(\"union of set1 and set2:\",union)\n",
    "print(\"intersection of two sets :\",intersection)\n",
    "print(\"diffren of two sets : \",diffrence)\n"
   ]
  },
  {
   "cell_type": "code",
   "execution_count": 51,
   "metadata": {},
   "outputs": [
    {
     "name": "stdout",
     "output_type": "stream",
     "text": [
      "tuple: (4, 5, 6, 7, 3)\n",
      "element: 4\n",
      "count of occurences : 1\n"
     ]
    }
   ],
   "source": [
    "# 29.write a code that takes a tuple and an element as input. The function should return the count ofoccurrences of the given element in the tuplel\n",
    "tup =tuple(map(int,input(\"enter the value of tuple  sepreted by commas :\").split(',')))\n",
    "element=int(input(\"enter a element to search for :\"))\n",
    "count=tup.count(element)\n",
    "print(\"tuple:\",tup)\n",
    "print(\"element:\",element)\n",
    "print(\"count of occurences :\",count)"
   ]
  },
  {
   "cell_type": "code",
   "execution_count": 52,
   "metadata": {},
   "outputs": [
    {
     "name": "stdout",
     "output_type": "stream",
     "text": [
      "set 1 :  {'5', '4', '3', '6'}\n",
      "set 2 : {'8', '5', '4', '6', '3'}\n",
      "symmetric diffrence {'8'}\n"
     ]
    }
   ],
   "source": [
    " # 30.devlop a code that prompts the user to input two sets of strings. Then, print the symmetric difference ofthese two sets\n",
    "set1=input(\"enter the first set of string seprated by commas :\")\n",
    "set2=input(\"enter the second set of string seprated by commas :\")\n",
    "set1=set(set1.split(','))\n",
    "set2=set(set2.split(','))\n",
    "\n",
    "symmetric_diffrence=set1.symmetric_difference(set2)\n",
    "print(\"set 1 : \",set1)\n",
    "print(\"set 2 :\",set2)\n",
    "print(\"symmetric diffrence\",symmetric_diffrence)"
   ]
  },
  {
   "cell_type": "code",
   "execution_count": 54,
   "metadata": {},
   "outputs": [
    {
     "name": "stdout",
     "output_type": "stream",
     "text": [
      "Word Frequencies:\n",
      "apple: 2\n",
      "banana: 2\n",
      "orange: 1\n"
     ]
    }
   ],
   "source": [
    "# 31.Write a code that takes a list of words as input and returns a dictionary where the keys are unique wordsand the values are the frequencies of those words in the input list\n",
    "word_list = input(\"Enter a list of words separated by spaces: \").split()\n",
    "frequency_dict = {}\n",
    "for word in word_list:\n",
    "    word = word.lower()\n",
    "    frequency_dict[word] = frequency_dict.get(word, 0) + 1\n",
    "print(\"Word Frequencies:\")\n",
    "for word, frequency in frequency_dict.items():\n",
    "    print(f\"{word}: {frequency}\")\n",
    "   "
   ]
  },
  {
   "cell_type": "code",
   "execution_count": 9,
   "metadata": {},
   "outputs": [
    {
     "name": "stdout",
     "output_type": "stream",
     "text": [
      "Merged Dictionary: {'apple': 10, 'banana': 15, 'cherry': 25, 'date': 15}\n"
     ]
    }
   ],
   "source": [
    "#32.Write a code that takes two dictionaries as input and merges them into a single dictionary. If there are common keys, the values should be added together\n",
    "def merge_dicts(dict1, dict2):\n",
    "    merged_dict = dict1.copy() \n",
    "    \n",
    "    for key, value in dict2.items():\n",
    "        if key in merged_dict:\n",
    "            merged_dict[key] += value\n",
    "        else:\n",
    "            merged_dict[key] = value\n",
    "            \n",
    "    return merged_dict\n",
    "dict1 = {'apple': 10, 'banana': 5, 'cherry': 20}\n",
    "dict2 = {'banana': 10, 'cherry': 5, 'date': 15}\n",
    "\n",
    "merged_dict = merge_dicts(dict1, dict2)\n",
    "print(\"Merged Dictionary:\", merged_dict)\n"
   ]
  },
  {
   "cell_type": "code",
   "execution_count": 59,
   "metadata": {},
   "outputs": [
    {
     "name": "stdout",
     "output_type": "stream",
     "text": [
      "house.price: 100000\n",
      "house.location: New York\n",
      "car.price: 50000\n",
      "car.brand: Toyota\n",
      "land: 200000\n",
      "jewelry: None\n"
     ]
    }
   ],
   "source": [
    "#33.Write a code to access a value in a nested dictionary. The function should take the dictionary and a list of keys as input, and return the corresponding value. If any of the keys do not exist in the dictionary, the function should return None'''\n",
    "def exceed_value(nested_dict, keys):\n",
    "    result = {}\n",
    "    for key in keys:\n",
    "        value = nested_dict.get(key, None)\n",
    "        if value is not None and isinstance(value, dict):\n",
    "            for k, v in value.items():\n",
    "                result[f\"{key}.{k}\"] = v\n",
    "        else:\n",
    "            result[key] = value\n",
    "    return result\n",
    "\n",
    "nested_dict = {\n",
    "    \"house\": {\n",
    "        \"price\": 100000,\n",
    "        \"location\": \"New York\"\n",
    "    },\n",
    "    \"car\": {\n",
    "        \"price\": 50000,\n",
    "        \"brand\": \"Toyota\"\n",
    "    },\n",
    "    \"land\": 200000\n",
    "}\n",
    "\n",
    "keys = [\"house\", \"car\", \"land\", \"jewelry\"]\n",
    "\n",
    "result = exceed_value(nested_dict, keys)\n",
    "\n",
    "for key, value in result.items():\n",
    "    print(f\"{key}: {value}\")\n",
    "\n",
    "\n"
   ]
  },
  {
   "cell_type": "code",
   "execution_count": 8,
   "metadata": {},
   "outputs": [
    {
     "name": "stdout",
     "output_type": "stream",
     "text": [
      "Sorted in ascending order: {'banana': 5, 'apple': 10, 'date': 15, 'cherry': 20}\n",
      "Sorted in descending order: {'cherry': 20, 'date': 15, 'apple': 10, 'banana': 5}\n"
     ]
    }
   ],
   "source": [
    "#34.Write a code that takes a dictionary as input and returns a sorted version of it based on the values. You can choose whether to sort in ascending or descending order\n",
    "def sort_dict_by_value(input_dict, ascending=True):\n",
    "    sorted_dict = dict(sorted(input_dict.items(), key=lambda item: item[1], reverse=not ascending))\n",
    "    return sorted_dict\n",
    "input_dict = {'apple': 10, 'banana': 5, 'cherry': 20, 'date': 15}\n",
    "sorted_dict_asc = sort_dict_by_value(input_dict, ascending=True)\n",
    "print(\"Sorted in ascending order:\", sorted_dict_asc)\n",
    "\n",
    "\n",
    "sorted_dict_desc = sort_dict_by_value(input_dict, ascending=False)\n",
    "print(\"Sorted in descending order:\", sorted_dict_desc)\n"
   ]
  },
  {
   "cell_type": "code",
   "execution_count": 61,
   "metadata": {},
   "outputs": [
    {
     "name": "stdout",
     "output_type": "stream",
     "text": [
      "\n",
      "Inverted Dictionary:\n",
      "fruit: ['apple', 'orange']\n",
      "name: ['bhumika']\n"
     ]
    }
   ],
   "source": [
    "#write a code that inverts a dictionary, swapping keys and values. Ensure that the inverted dictionary correctly handles cases where multiple keys have the same value by storing the keys as a list in the inverted dictionary\n",
    "def invert_dict(input_dict):\n",
    "    inverted_dict = {}\n",
    "    for key, value in input_dict.items():\n",
    "        if value not in inverted_dict:\n",
    "            inverted_dict[value] = [key]\n",
    "        else:\n",
    "            inverted_dict[value].append(key)\n",
    "    return inverted_dict\n",
    "\n",
    "def main():\n",
    "    num_items = int(input(\"Enter the number of items in the dictionary: \"))\n",
    "    input_dict = {}\n",
    "\n",
    "    for i in range(num_items):\n",
    "        key = input(f\"Enter key {i+1}: \")\n",
    "        value = input(f\"Enter value for {key}: \")\n",
    "        input_dict[key] = value\n",
    "\n",
    "    inverted_dict = invert_dict(input_dict)\n",
    "\n",
    "    print(\"\\nInverted Dictionary:\")\n",
    "    for key, value in inverted_dict.items():\n",
    "        print(f\"{key}: {value}\")\n",
    "\n",
    "if __name__ == \"__main__\":\n",
    "    main()"
   ]
  }
 ],
 "metadata": {
  "kernelspec": {
   "display_name": "Python 3",
   "language": "python",
   "name": "python3"
  },
  "language_info": {
   "codemirror_mode": {
    "name": "ipython",
    "version": 3
   },
   "file_extension": ".py",
   "mimetype": "text/x-python",
   "name": "python",
   "nbconvert_exporter": "python",
   "pygments_lexer": "ipython3",
   "version": "3.13.0"
  }
 },
 "nbformat": 4,
 "nbformat_minor": 2
}
